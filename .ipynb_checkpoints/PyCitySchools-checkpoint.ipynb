{
 "cells": [
  {
   "cell_type": "code",
   "execution_count": 11,
   "metadata": {},
   "outputs": [
    {
     "data": {
      "text/plain": [
       "24649428"
      ]
     },
     "execution_count": 11,
     "metadata": {},
     "output_type": "execute_result"
    }
   ],
   "source": [
    "# Dependencies\n",
    "import pandas as pd\n",
    "# Read our Data file with the pandas library\n",
    "# Not every CSV requires an encoding, but be aware this can come up\n",
    "file_one = \"PyCitySchools/raw_data/schools_complete.csv\"\n",
    "#file_two = \"PyCitySchools/raw_data/students_complete.csv\"\n",
    "\n",
    "\n",
    "file_one_df = pd.read_csv(file_one, encoding = \"ISO-8859-1\")\n",
    "#file_two_df = pd.read_csv(file_two, encoding = \"ISO-8859-1\")\n",
    "file_one_df\n",
    "file_two_df\n",
    "\n",
    "school_count = len(file_one_df[\"name\"].unique())\n",
    "student_count = len(file_two_df[\"name\"].unique())\n",
    "total_budget=file_one_df[\"budget\"].sum()\n",
    "\n",
    "total_budget\n",
    "#school_count\n",
    "\n",
    "#Create a high level snapshot (in table form) of the district's key metrics, including:\n",
    "  #Total Schools\n",
    "  #Total Students\n",
    "  # Total Budget\n",
    "  #Average Math Score\n",
    "  # Average Reading Score\n",
    "  #* % Passing Math\n",
    "  #* % Passing Reading\n",
    "  # Overall Passing Rate (Average of the above two)\n",
    "\n"
   ]
  },
  {
   "cell_type": "code",
   "execution_count": null,
   "metadata": {
    "collapsed": true
   },
   "outputs": [],
   "source": []
  },
  {
   "cell_type": "code",
   "execution_count": null,
   "metadata": {
    "collapsed": true
   },
   "outputs": [],
   "source": []
  }
 ],
 "metadata": {
  "kernelspec": {
   "display_name": "Python 3",
   "language": "python",
   "name": "python3"
  },
  "language_info": {
   "codemirror_mode": {
    "name": "ipython",
    "version": 3
   },
   "file_extension": ".py",
   "mimetype": "text/x-python",
   "name": "python",
   "nbconvert_exporter": "python",
   "pygments_lexer": "ipython3",
   "version": "3.6.2"
  }
 },
 "nbformat": 4,
 "nbformat_minor": 2
}
